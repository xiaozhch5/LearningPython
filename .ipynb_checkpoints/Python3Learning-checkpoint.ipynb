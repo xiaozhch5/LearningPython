{
 "cells": [
  {
   "cell_type": "markdown",
   "metadata": {},
   "source": [
    "# python3 基础语法"
   ]
  },
  {
   "cell_type": "markdown",
   "metadata": {},
   "source": [
    "## 保留字"
   ]
  },
  {
   "cell_type": "code",
   "execution_count": null,
   "metadata": {
    "hide_input": false,
    "scrolled": true
   },
   "outputs": [],
   "source": [
    "import keyword\n",
    "keyword.kwlist"
   ]
  },
  {
   "cell_type": "markdown",
   "metadata": {},
   "source": [
    "## 注释"
   ]
  },
  {
   "cell_type": "code",
   "execution_count": null,
   "metadata": {
    "code_folding": []
   },
   "outputs": [],
   "source": [
    "# first comment\n",
    "\n",
    "''' second comment '''\n",
    "\n",
    "\"\"\" third comment \"\"\""
   ]
  },
  {
   "cell_type": "markdown",
   "metadata": {},
   "source": [
    "## 行与缩进"
   ]
  },
  {
   "cell_type": "markdown",
   "metadata": {},
   "source": [
    "## 多行语句"
   ]
  },
  {
   "cell_type": "code",
   "execution_count": 1,
   "metadata": {},
   "outputs": [],
   "source": [
    "item_one = 1\n",
    "item_second = 2\n",
    "item_third = 3\n",
    "\n",
    "total = item_one + \\\n",
    "        item_second + \\\n",
    "        item_third"
   ]
  },
  {
   "cell_type": "markdown",
   "metadata": {},
   "source": [
    "在[],{}或()中的多行语句不需要反斜杠，例如："
   ]
  },
  {
   "cell_type": "code",
   "execution_count": null,
   "metadata": {},
   "outputs": [],
   "source": [
    "total = ['item_one', 'item_second', 'item_third']"
   ]
  },
  {
   "cell_type": "markdown",
   "metadata": {},
   "source": [
    "## 数字类型"
   ]
  },
  {
   "cell_type": "markdown",
   "metadata": {},
   "source": [
    "* int\n",
    "\n",
    "* bool\n",
    "\n",
    "* float\n",
    "\n",
    "* complex"
   ]
  },
  {
   "cell_type": "markdown",
   "metadata": {},
   "source": [
    "## 字符串（String）"
   ]
  },
  {
   "cell_type": "markdown",
   "metadata": {},
   "source": [
    "* python中单引号和双引号使用完全相同。\n",
    "* 使用三引号('''或\"\"\")可以指定一个多行字符串。\n",
    "* 转义符 \\\n",
    "* 反斜杠可以用来转义，使用r可以让反斜杠不发生转义。。 如 r\"this is a line with \\n\" 则\\n会显示，并不是换行。\n",
    "* 字符串可以用 + 运算符连接在一起，用 * 运算符重复\n",
    "* Python 中的字符串有两种索引方式，从左往右以 0 开始，从右往左以 -1 开始。\n",
    "* Python中的字符串不能改变。"
   ]
  },
  {
   "cell_type": "code",
   "execution_count": 2,
   "metadata": {},
   "outputs": [
    {
     "name": "stdout",
     "output_type": "stream",
     "text": [
      "sserpdrow\n"
     ]
    }
   ],
   "source": [
    "# 字符串逆序\n",
    "s = 'wordpress'\n",
    "rs = s[::-1]\n",
    "print(rs)"
   ]
  },
  {
   "cell_type": "code",
   "execution_count": 3,
   "metadata": {},
   "outputs": [
    {
     "name": "stdout",
     "output_type": "stream",
     "text": [
      "987654321\n"
     ]
    }
   ],
   "source": [
    "# 数字逆序\n",
    "x = 123456789\n",
    "sx = str(x)\n",
    "nsx = sx[::-1]\n",
    "nsx = int(nsx)\n",
    "print(nsx)"
   ]
  },
  {
   "cell_type": "code",
   "execution_count": 11,
   "metadata": {},
   "outputs": [],
   "source": [
    "%%capture # 运行结果不输出\n",
    "str='xiaozhch5'\n",
    " \n",
    "print(str)                 # 输出字符串\n",
    "print(str[0:-1])           # 输出第一个到倒数第二个的所有字符\n",
    "print(str[0])              # 输出字符串第一个字符\n",
    "print(str[2:5])            # 输出从第三个开始到第五个的字符\n",
    "print(str[2:])             # 输出从第三个开始的后的所有字符\n",
    "print(str * 2)             # 输出字符串两次\n",
    "print(str + '你好')        # 连接字符串\n",
    " \n",
    "print('------------------------------')\n",
    " \n",
    "print('hello\\nxiaozhch5')      # 使用反斜杠(\\)+n转义特殊字符\n",
    "print(r'hello\\nxiaozhch5')     # 在字符串前面添加一个 r，表示原始字符串，不会发生转义"
   ]
  },
  {
   "cell_type": "markdown",
   "metadata": {},
   "source": [
    "## 输入与输出"
   ]
  },
  {
   "cell_type": "code",
   "execution_count": 14,
   "metadata": {
    "hide_input": false,
    "scrolled": false
   },
   "outputs": [
    {
     "name": "stdout",
     "output_type": "stream",
     "text": [
      "12444\n",
      "12444\n"
     ]
    }
   ],
   "source": [
    "a = input(\"\")\n",
    "print(a)"
   ]
  },
  {
   "cell_type": "markdown",
   "metadata": {},
   "source": [
    "## import 与from ... import 导入模块"
   ]
  },
  {
   "cell_type": "code",
   "execution_count": 10,
   "metadata": {},
   "outputs": [],
   "source": [
    "import numpy\n",
    "import numpy as np\n",
    "from collections import deque"
   ]
  },
  {
   "cell_type": "markdown",
   "metadata": {},
   "source": [
    "# 基本数据类型"
   ]
  },
  {
   "cell_type": "markdown",
   "metadata": {},
   "source": [
    "不可变数据：\n",
    "* Number（数字）: int, float, bool, complex\n",
    "* String（字符串）: 例如，'abcd'\n",
    "* Tuple（元组）: 例如，tuple = ( 'abcd', 786 , 2.23, 'runoob', 70.2  )\n",
    "\n",
    "可变数据：\n",
    "* List（列表）: 例如，list = ['a', 'b', 'c']\n",
    "* Set（集合）: 例如，student = {'Tom', 'Jim', 'Mary', 'Tom', 'Jack', 'Rose'}\n",
    "* Dictionary（字典）: tinydict = {'name': 'xiaochzh5','code':1, 'site': 'love.lrting.top'}\n",
    "\n",
    "元组（tuple）与列表类似，不同之处在于元组的元素不能修改。元组写在小括号 () 里，元素之间用逗号隔开。元组中的元素类型也可以不相同。\n",
    "\n",
    "集合（set）是由一个或数个形态各异的大小整体组成的，构成集合的事物或对象称作元素或是成员。基本功能是进行成员关系测试和删除重复元素。可以使用大括号 { } 或者 set() 函数创建集合，注意：创建一个空集合必须用 set() 而不是 { }，因为 { } 是用来创建一个空字典。\n",
    "\n",
    "列表是有序的对象集合，字典是无序的对象集合。两者之间的区别在于：字典当中的元素是通过键来存取的，而不是通过偏移存取。字典是一种映射类型，字典用 { } 标识，它是一个无序的 键(key) : 值(value) 的集合。键(key)必须使用不可变类型。在同一个字典中，键(key)必须是唯一的。"
   ]
  },
  {
   "cell_type": "markdown",
   "metadata": {},
   "source": [
    "## 数据类型转换"
   ]
  },
  {
   "cell_type": "markdown",
   "metadata": {},
   "source": [
    "|函数 | 描述|\n",
    "|----|----|\n",
    "|int(x)|将x转换为一个整数|\n",
    "|float(s)|将x转换到一个浮点数|\n"
   ]
  },
  {
   "cell_type": "markdown",
   "metadata": {},
   "source": [
    "# 运算符"
   ]
  },
  {
   "cell_type": "markdown",
   "metadata": {},
   "source": [
    "* 算术运算符: +, -, *, /, %, * *, //\n",
    "* 比较（关系运算符）: ==, !=, >, <, >=, <=\n",
    "* 赋值运算符: =, +=, -=, *=, /=, %=, * *=, //=\n",
    "* 逻辑运算符: and, or, not\n",
    "* 位运算符: &, |, ^, ~, >>, <<\n",
    "* 成员运算符: in, not in\n",
    "* 身份运算符: is not is\n",
    "* 运算符优先级"
   ]
  },
  {
   "cell_type": "code",
   "execution_count": null,
   "metadata": {
    "hide_input": false
   },
   "outputs": [],
   "source": []
  }
 ],
 "metadata": {
  "kernelspec": {
   "display_name": "Python 3",
   "language": "python",
   "name": "python3"
  },
  "language_info": {
   "codemirror_mode": {
    "name": "ipython",
    "version": 3
   },
   "file_extension": ".py",
   "mimetype": "text/x-python",
   "name": "python",
   "nbconvert_exporter": "python",
   "pygments_lexer": "ipython3",
   "version": "3.6.6"
  },
  "latex_envs": {
   "LaTeX_envs_menu_present": true,
   "autoclose": false,
   "autocomplete": true,
   "bibliofile": "biblio.bib",
   "cite_by": "apalike",
   "current_citInitial": 1,
   "eqLabelWithNumbers": true,
   "eqNumInitial": 1,
   "hotkeys": {
    "equation": "Ctrl-E",
    "itemize": "Ctrl-I"
   },
   "labels_anchors": false,
   "latex_user_defs": false,
   "report_style_numbering": false,
   "user_envs_cfg": false
  },
  "toc": {
   "base_numbering": 1,
   "nav_menu": {
    "height": "80px",
    "width": "186px"
   },
   "number_sections": true,
   "sideBar": true,
   "skip_h1_title": false,
   "title_cell": "Table of Contents",
   "title_sidebar": "Contents",
   "toc_cell": false,
   "toc_position": {},
   "toc_section_display": true,
   "toc_window_display": true
  }
 },
 "nbformat": 4,
 "nbformat_minor": 2
}
